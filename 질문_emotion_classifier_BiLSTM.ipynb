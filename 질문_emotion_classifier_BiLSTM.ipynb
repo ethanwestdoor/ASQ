{
  "nbformat": 4,
  "nbformat_minor": 0,
  "metadata": {
    "colab": {
      "name": "질문 emotion classifie",
      "provenance": [],
      "authorship_tag": "ABX9TyMLv3DLEUCsCQPir+tBVFCB",
      "include_colab_link": true
    },
    "kernelspec": {
      "name": "python3",
      "display_name": "Python 3"
    },
    "language_info": {
      "name": "python"
    }
  },
  "cells": [
    {
      "cell_type": "markdown",
      "metadata": {
        "id": "view-in-github",
        "colab_type": "text"
      },
      "source": [
        "<a href=\"https://colab.research.google.com/github/ethanwestdoor/ASQ/blob/main/%EC%A7%88%EB%AC%B8_emotion_classifier_BiLSTM.ipynb\" target=\"_parent\"><img src=\"https://colab.research.google.com/assets/colab-badge.svg\" alt=\"Open In Colab\"/></a>"
      ]
    },
    {
      "cell_type": "code",
      "execution_count": null,
      "metadata": {
        "id": "TU99Rw7oZsVp"
      },
      "outputs": [],
      "source": [
        ""
      ]
    }
  ]
}